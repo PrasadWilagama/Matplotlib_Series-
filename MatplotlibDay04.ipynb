{
  "nbformat": 4,
  "nbformat_minor": 0,
  "metadata": {
    "colab": {
      "name": "MatplotlibDay04.ipynb",
      "provenance": [],
      "collapsed_sections": []
    },
    "kernelspec": {
      "name": "python3",
      "display_name": "Python 3"
    },
    "language_info": {
      "name": "python"
    }
  },
  "cells": [
    {
      "cell_type": "code",
      "execution_count": 1,
      "metadata": {
        "id": "6XwAAmHARIu4"
      },
      "outputs": [],
      "source": [
        "%matplotlib inline\n",
        "import matplotlib.pyplot as plt\n",
        "import numpy as np"
      ]
    },
    {
      "cell_type": "code",
      "source": [
        "company=['LB','LOLC','SDB','KFC']\n",
        "revenue=[80,142,99,30]"
      ],
      "metadata": {
        "id": "dIO4AgVKRWrP"
      },
      "execution_count": 3,
      "outputs": []
    },
    {
      "cell_type": "code",
      "source": [
        "xpos = np.arange(len(company))\n",
        "xpos"
      ],
      "metadata": {
        "colab": {
          "base_uri": "https://localhost:8080/"
        },
        "id": "9KZwgN4yRnsO",
        "outputId": "d4940888-b821-4ffd-8aa2-99ec8fb87ec3"
      },
      "execution_count": 4,
      "outputs": [
        {
          "output_type": "execute_result",
          "data": {
            "text/plain": [
              "array([0, 1, 2, 3])"
            ]
          },
          "metadata": {},
          "execution_count": 4
        }
      ]
    },
    {
      "cell_type": "code",
      "source": [
        "plt.bar(xpos,revenue, label=\"Revenue\")\n",
        "\n",
        "plt.xticks(xpos,company)\n",
        "plt.ylabel(\"Revenue(Bln)\")\n",
        "plt.title('US Technology Stocks')\n",
        "plt.legend()"
      ],
      "metadata": {
        "colab": {
          "base_uri": "https://localhost:8080/",
          "height": 298
        },
        "id": "XQZ_WEAUSKLt",
        "outputId": "804029f1-cc4b-440b-8d13-1a958f90525a"
      },
      "execution_count": 5,
      "outputs": [
        {
          "output_type": "execute_result",
          "data": {
            "text/plain": [
              "<matplotlib.legend.Legend at 0x7f6b53d90c50>"
            ]
          },
          "metadata": {},
          "execution_count": 5
        },
        {
          "output_type": "display_data",
          "data": {
            "text/plain": [
              "<Figure size 432x288 with 1 Axes>"
            ],
            "image/png": "[encoded data removed]"
          },
          "metadata": {
            "needs_background": "light"
          }
        }
      ]
    },
    {
      "cell_type": "code",
      "source": [
        "profit=[38,5,43,16]"
      ],
      "metadata": {
        "id": "YNlYV8O6SR2H"
      },
      "execution_count": 7,
      "outputs": []
    },
    {
      "cell_type": "code",
      "source": [
        "plt.bar(xpos-0.2,revenue, width=0.4, label=\"Revenue\")\n",
        "plt.bar(xpos+0.2,profit, width=0.4,label=\"Profit\")\n",
        "\n",
        "plt.xticks(xpos,company)\n",
        "plt.ylabel(\"Revenue(Bln)\")\n",
        "plt.title('US Technology Stocks')\n",
        "plt.legend()"
      ],
      "metadata": {
        "colab": {
          "base_uri": "https://localhost:8080/",
          "height": 298
        },
        "id": "quBsZOXLTdjQ",
        "outputId": "1e21a6d6-494b-49eb-f328-2430b095f20c"
      },
      "execution_count": 16,
      "outputs": [
        {
          "output_type": "execute_result",
          "data": {
            "text/plain": [
              "<matplotlib.legend.Legend at 0x7f6b4cf69c90>"
            ]
          },
          "metadata": {},
          "execution_count": 16
        },
        {
          "output_type": "display_data",
          "data": {
            "text/plain": [
              "<Figure size 432x288 with 1 Axes>"
            ],
            "image/png": "[encoded data removed]"
          },
          "metadata": {
            "needs_background": "light"
          }
        }
      ]
    },
    {
      "cell_type": "code",
      "source": [
        "plt.barh(xpos,revenue, label=\"Revenue\")\n",
        "\n",
        "plt.yticks(xpos,company)\n",
        "plt.ylabel(\"Revenue(Bln)\")\n",
        "plt.title('US Technolog Stocks')\n",
        "plt.legend()"
      ],
      "metadata": {
        "colab": {
          "base_uri": "https://localhost:8080/",
          "height": 298
        },
        "id": "Lx8oKdDOT88A",
        "outputId": "898e87b9-9418-491b-b80b-12891c6c141b"
      },
      "execution_count": 17,
      "outputs": [
        {
          "output_type": "execute_result",
          "data": {
            "text/plain": [
              "<matplotlib.legend.Legend at 0x7f6b4ced45d0>"
            ]
          },
          "metadata": {},
          "execution_count": 17
        },
        {
          "output_type": "display_data",
          "data": {
            "text/plain": [
              "<Figure size 432x288 with 1 Axes>"
            ],
            "image/png": "[encoded data removed]"
          },
          "metadata": {
            "needs_background": "light"
          }
        }
      ]
    }
  ]
}